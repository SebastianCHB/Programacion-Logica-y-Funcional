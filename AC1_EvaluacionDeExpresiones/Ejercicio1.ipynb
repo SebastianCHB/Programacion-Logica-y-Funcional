{
 "cells": [
  {
   "cell_type": "markdown",
   "metadata": {},
   "source": [
    "# Ejercicio 1\n",
    "Ejercicio 1 de evaluacion de expresiones en Python\n",
    "\n",
    "$ \\frac {\\pi ^ 2}{6} = \\sum_{n=1}^{\\infty} \\frac{1}{n ^ 2} $"
   ]
  },
  {
   "cell_type": "code",
   "execution_count": null,
   "metadata": {},
   "outputs": [
    {
     "name": "stdout",
     "output_type": "stream",
     "text": [
      "Valor Teorico: 1.6449340668482264, Aproximacion: 1.6439335666815615\n",
      "Error: 0.0010005001666648639\n"
     ]
    }
   ],
   "source": [
    "import math\n",
    "res = math.pi ** 2 / 6\n",
    "res2 = 0\n",
    "\n",
    "for n in range (1, 50):\n",
    "    res2+= 1 / (n**2)\n",
    "\n",
    "print(f\"Valor Teorico: {res}, Aproximacion: {res2}\")\n",
    "error = abs(res - res2)\n",
    "print(f\"Error: {error}\")\n"
   ]
  }
 ],
 "metadata": {
  "kernelspec": {
   "display_name": "Python 3",
   "language": "python",
   "name": "python3"
  },
  "language_info": {
   "codemirror_mode": {
    "name": "ipython",
    "version": 3
   },
   "file_extension": ".py",
   "mimetype": "text/x-python",
   "name": "python",
   "nbconvert_exporter": "python",
   "pygments_lexer": "ipython3",
   "version": "3.11.4"
  }
 },
 "nbformat": 4,
 "nbformat_minor": 2
}
