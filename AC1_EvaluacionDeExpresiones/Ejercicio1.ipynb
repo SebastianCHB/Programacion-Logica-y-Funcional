{
 "cells": [
  {
   "cell_type": "markdown",
   "metadata": {},
   "source": [
    "# Ejercicio 1\n",
    "Ejercicio 1 de evaluacion de expresiones en Python\n",
    "\n",
    "$ \\frac {\\pi ^ 2}{6} = \\sum_{n=1}^{\\infty} \\frac{1}{n ^ 2} $"
   ]
  },
  {
   "cell_type": "code",
   "execution_count": 4,
   "metadata": {},
   "outputs": [
    {
     "name": "stdout",
     "output_type": "stream",
     "text": [
      "Valor Teorico: 1.6449340668482264, Aproximacion: 1.6247327336215291\n",
      "Error: 0.02020133322669726\n"
     ]
    }
   ],
   "source": [
    "import math\n",
    "res = math.pi ** 2 / 6\n",
    "res2 = 0\n",
    "\n",
    "for n in range (1, 50):\n",
    "    res2+= 1 / (n**2)\n",
    "\n",
    "print(f\"Valor Teorico: {res}, Aproximacion: {res2}\")\n",
    "error = abs(res - res2)\n",
    "print(f\"Error: {error}\")\n"
   ]
  },
  {
   "cell_type": "markdown",
   "metadata": {},
   "source": [
    "# Expresion 1\n",
    "Primero se resuelve lo que esta dentro del parentesis (\"(3 + 4)\") y se multiplica por 4 y da de resultado 20"
   ]
  },
  {
   "cell_type": "code",
   "execution_count": 5,
   "metadata": {},
   "outputs": [
    {
     "name": "stdout",
     "output_type": "stream",
     "text": [
      "20\n"
     ]
    }
   ],
   "source": [
    "expr1 = (3 + 2) * 4 \n",
    "print(expr1)"
   ]
  },
  {
   "cell_type": "markdown",
   "metadata": {},
   "source": [
    "# Expresion 2\n",
    "Primero se eleva el 3 al cuadrado y despues se multiplica por 2"
   ]
  },
  {
   "cell_type": "code",
   "execution_count": 6,
   "metadata": {},
   "outputs": [
    {
     "name": "stdout",
     "output_type": "stream",
     "text": [
      "18\n"
     ]
    }
   ],
   "source": [
    "expr2 = 2 * 3 ** 2 \n",
    "print(expr2)"
   ]
  },
  {
   "cell_type": "markdown",
   "metadata": {},
   "source": [
    "# Expresion 3\n",
    "Primero se realiza la division entera dando 3 y 1 de residuo (al ser enterea no se toma en cuenta el 1) y luego se le suma el 2"
   ]
  },
  {
   "cell_type": "code",
   "execution_count": 7,
   "metadata": {},
   "outputs": [
    {
     "name": "stdout",
     "output_type": "stream",
     "text": [
      "5\n"
     ]
    }
   ],
   "source": [
    "expr3 = 10 // 3 + 2\n",
    "print(expr3)"
   ]
  },
  {
   "cell_type": "markdown",
   "metadata": {},
   "source": [
    "# Expresion 4\n",
    "Primero se realiza el 17 modulo 5 que da igual a 2 y luego se multiplica por 2"
   ]
  },
  {
   "cell_type": "code",
   "execution_count": 9,
   "metadata": {},
   "outputs": [
    {
     "name": "stdout",
     "output_type": "stream",
     "text": [
      "4\n"
     ]
    }
   ],
   "source": [
    "expr4 = 17 % 5 * 2\n",
    "print(expr4)"
   ]
  },
  {
   "cell_type": "markdown",
   "metadata": {},
   "source": [
    "# Expresion 5\n",
    "El -2 se eleva al cuadrado"
   ]
  },
  {
   "cell_type": "code",
   "execution_count": 10,
   "metadata": {},
   "outputs": [
    {
     "name": "stdout",
     "output_type": "stream",
     "text": [
      "-4\n"
     ]
    }
   ],
   "source": [
    "expr5 = -2 ** 2\n",
    "print(expr5)"
   ]
  },
  {
   "cell_type": "markdown",
   "metadata": {},
   "source": [
    "# Expresion 6\n",
    "Primero se resuelve el 2 al cuadrado, luego se multiplica por 4 despues lo divide entre 3 al ser entera no toma en cuenta el residuo y al final le suma 3"
   ]
  },
  {
   "cell_type": "code",
   "execution_count": 11,
   "metadata": {},
   "outputs": [
    {
     "name": "stdout",
     "output_type": "stream",
     "text": [
      "8\n"
     ]
    }
   ],
   "source": [
    "expr6 = 3 + 4 * 2 ** 2 // 3\n",
    "print(expr6)"
   ]
  },
  {
   "cell_type": "markdown",
   "metadata": {},
   "source": [
    "# Expresion 7\n",
    "Esta expresion se lee de izquierda a derecha, por endte 3 es menor que 4 y 4 menor que 5, por lo tanto la validacion es true"
   ]
  },
  {
   "cell_type": "code",
   "execution_count": 19,
   "metadata": {},
   "outputs": [
    {
     "name": "stdout",
     "output_type": "stream",
     "text": [
      "True\n"
     ]
    }
   ],
   "source": [
    "expr7 = 3 < 4 < 5\n",
    "print(expr7)"
   ]
  },
  {
   "cell_type": "markdown",
   "metadata": {},
   "source": [
    "# Expresion 8\n",
    "Ambas variables del and son true y para el or es true y false, por ende el resultado se interpreta como true"
   ]
  },
  {
   "cell_type": "code",
   "execution_count": 20,
   "metadata": {},
   "outputs": [
    {
     "name": "stdout",
     "output_type": "stream",
     "text": [
      "True\n"
     ]
    }
   ],
   "source": [
    "expr8 = (3 > 2) and (5 < 10) or False\n",
    "print(expr8)"
   ]
  },
  {
   "cell_type": "markdown",
   "metadata": {},
   "source": [
    "# Expresion 9\n",
    "Primero se hace la suma y despues se realiza la operacion binaria and 5 and 4"
   ]
  },
  {
   "cell_type": "code",
   "execution_count": 21,
   "metadata": {},
   "outputs": [
    {
     "name": "stdout",
     "output_type": "stream",
     "text": [
      "4\n"
     ]
    }
   ],
   "source": [
    "expr9 = 5 & 3 + 1\n",
    "print(expr9)"
   ]
  },
  {
   "cell_type": "markdown",
   "metadata": {},
   "source": [
    "# Expresion 10"
   ]
  },
  {
   "cell_type": "code",
   "execution_count": 22,
   "metadata": {},
   "outputs": [
    {
     "name": "stdout",
     "output_type": "stream",
     "text": [
      "True\n"
     ]
    }
   ],
   "source": [
    "expr10 = (2 + 3) * 4 ** 2 // (5 % 3) and not False\n",
    "print(expr10)"
   ]
  }
 ],
 "metadata": {
  "kernelspec": {
   "display_name": "Python 3",
   "language": "python",
   "name": "python3"
  },
  "language_info": {
   "codemirror_mode": {
    "name": "ipython",
    "version": 3
   },
   "file_extension": ".py",
   "mimetype": "text/x-python",
   "name": "python",
   "nbconvert_exporter": "python",
   "pygments_lexer": "ipython3",
   "version": "3.11.4"
  }
 },
 "nbformat": 4,
 "nbformat_minor": 2
}
